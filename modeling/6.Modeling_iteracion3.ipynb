{
 "cells": [
  {
   "cell_type": "code",
   "execution_count": 1,
   "metadata": {},
   "outputs": [],
   "source": [
    "import pandas as pd\n",
    "import os\n",
    "from sklearn.pipeline import Pipeline\n",
    "from sklearn.model_selection import GridSearchCV\n",
    "from sklearn.linear_model import Lasso\n",
    "from sklearn.linear_model import LinearRegression\n",
    "from sklearn.neighbors import KNeighborsRegressor\n",
    "from sklearn.ensemble import RandomForestRegressor, GradientBoostingRegressor, AdaBoostRegressor\n",
    "from xgboost import XGBRegressor\n",
    "from sklearn.model_selection import train_test_split\n",
    "from sklearn.metrics import r2_score\n",
    "from imblearn.over_sampling import SMOTE\n",
    "\n",
    "import time\n",
    "import ast\n",
    "from collections import defaultdict"
   ]
  },
  {
   "cell_type": "markdown",
   "metadata": {},
   "source": [
    "# Modeling: Transfer learning en ML"
   ]
  },
  {
   "cell_type": "code",
   "execution_count": 6,
   "metadata": {},
   "outputs": [],
   "source": [
    "models = {\n",
    "    'Lasso': Lasso(),\n",
    "    'LinearRegression': LinearRegression(),\n",
    "    'KNN': KNeighborsRegressor(),\n",
    "    'RandomForest': RandomForestRegressor(),\n",
    "    'GradientBoosting': GradientBoostingRegressor(),\n",
    "    'AdaBoost': AdaBoostRegressor(),\n",
    "    'XGBoost': XGBRegressor()\n",
    "}"
   ]
  },
  {
   "cell_type": "code",
   "execution_count": 3,
   "metadata": {},
   "outputs": [
    {
     "data": {
      "text/html": [
       "<div>\n",
       "<style scoped>\n",
       "    .dataframe tbody tr th:only-of-type {\n",
       "        vertical-align: middle;\n",
       "    }\n",
       "\n",
       "    .dataframe tbody tr th {\n",
       "        vertical-align: top;\n",
       "    }\n",
       "\n",
       "    .dataframe thead th {\n",
       "        text-align: right;\n",
       "    }\n",
       "</style>\n",
       "<table border=\"1\" class=\"dataframe\">\n",
       "  <thead>\n",
       "    <tr style=\"text-align: right;\">\n",
       "      <th></th>\n",
       "      <th>Version_data</th>\n",
       "      <th>Version_iteracion</th>\n",
       "      <th>State</th>\n",
       "      <th>Modelo</th>\n",
       "      <th>parametros</th>\n",
       "      <th>r2</th>\n",
       "      <th>Tiempo de Ejecución</th>\n",
       "    </tr>\n",
       "  </thead>\n",
       "  <tbody>\n",
       "    <tr>\n",
       "      <th>0</th>\n",
       "      <td>new_values_log</td>\n",
       "      <td>iter2-cov</td>\n",
       "      <td>FL</td>\n",
       "      <td>RandomForest</td>\n",
       "      <td>{'model__n_estimators': 50}</td>\n",
       "      <td>0.837673</td>\n",
       "      <td>2.591476</td>\n",
       "    </tr>\n",
       "    <tr>\n",
       "      <th>1</th>\n",
       "      <td>new_values</td>\n",
       "      <td>iter2-cov</td>\n",
       "      <td>GA</td>\n",
       "      <td>Lasso</td>\n",
       "      <td>{'model__alpha': 1.0}</td>\n",
       "      <td>0.878851</td>\n",
       "      <td>0.133511</td>\n",
       "    </tr>\n",
       "    <tr>\n",
       "      <th>2</th>\n",
       "      <td>new_values</td>\n",
       "      <td>iter2-cov</td>\n",
       "      <td>NC</td>\n",
       "      <td>LinearRegression</td>\n",
       "      <td>{}</td>\n",
       "      <td>0.911957</td>\n",
       "      <td>0.029054</td>\n",
       "    </tr>\n",
       "    <tr>\n",
       "      <th>3</th>\n",
       "      <td>all_log</td>\n",
       "      <td>iter2-cov</td>\n",
       "      <td>NJ</td>\n",
       "      <td>AdaBoost</td>\n",
       "      <td>{'model__n_estimators': 50}</td>\n",
       "      <td>0.614304</td>\n",
       "      <td>1.878231</td>\n",
       "    </tr>\n",
       "    <tr>\n",
       "      <th>4</th>\n",
       "      <td>new_values</td>\n",
       "      <td>iter1-normal</td>\n",
       "      <td>NY</td>\n",
       "      <td>GradientBoosting</td>\n",
       "      <td>{'model__n_estimators': 150}</td>\n",
       "      <td>0.906065</td>\n",
       "      <td>0.490726</td>\n",
       "    </tr>\n",
       "    <tr>\n",
       "      <th>5</th>\n",
       "      <td>new_values</td>\n",
       "      <td>iter2-cov</td>\n",
       "      <td>SC</td>\n",
       "      <td>Lasso</td>\n",
       "      <td>{'model__alpha': 1.0}</td>\n",
       "      <td>0.835556</td>\n",
       "      <td>0.104108</td>\n",
       "    </tr>\n",
       "    <tr>\n",
       "      <th>6</th>\n",
       "      <td>new_values</td>\n",
       "      <td>iter2-cov</td>\n",
       "      <td>VA</td>\n",
       "      <td>LinearRegression</td>\n",
       "      <td>{}</td>\n",
       "      <td>0.921119</td>\n",
       "      <td>0.027562</td>\n",
       "    </tr>\n",
       "  </tbody>\n",
       "</table>\n",
       "</div>"
      ],
      "text/plain": [
       "     Version_data Version_iteracion State            Modelo  \\\n",
       "0  new_values_log         iter2-cov    FL      RandomForest   \n",
       "1      new_values         iter2-cov    GA             Lasso   \n",
       "2      new_values         iter2-cov    NC  LinearRegression   \n",
       "3         all_log         iter2-cov    NJ          AdaBoost   \n",
       "4      new_values      iter1-normal    NY  GradientBoosting   \n",
       "5      new_values         iter2-cov    SC             Lasso   \n",
       "6      new_values         iter2-cov    VA  LinearRegression   \n",
       "\n",
       "                     parametros        r2  Tiempo de Ejecución  \n",
       "0   {'model__n_estimators': 50}  0.837673             2.591476  \n",
       "1         {'model__alpha': 1.0}  0.878851             0.133511  \n",
       "2                            {}  0.911957             0.029054  \n",
       "3   {'model__n_estimators': 50}  0.614304             1.878231  \n",
       "4  {'model__n_estimators': 150}  0.906065             0.490726  \n",
       "5         {'model__alpha': 1.0}  0.835556             0.104108  \n",
       "6                            {}  0.921119             0.027562  "
      ]
     },
     "execution_count": 3,
     "metadata": {},
     "output_type": "execute_result"
    }
   ],
   "source": [
    "bests_models = pd.read_excel('../data/final_data/bests_models_results.xlsx')\n",
    "bests_models"
   ]
  },
  {
   "cell_type": "code",
   "execution_count": 4,
   "metadata": {},
   "outputs": [
    {
     "data": {
      "text/plain": [
       "{'FL': {'Modelo': 'RandomForest',\n",
       "  'parametros': \"{'model__n_estimators': 50}\",\n",
       "  'Version_data': 'new_values_log'},\n",
       " 'GA': {'Modelo': 'Lasso',\n",
       "  'parametros': \"{'model__alpha': 1.0}\",\n",
       "  'Version_data': 'new_values'},\n",
       " 'NC': {'Modelo': 'LinearRegression',\n",
       "  'parametros': '{}',\n",
       "  'Version_data': 'new_values'},\n",
       " 'NJ': {'Modelo': 'AdaBoost',\n",
       "  'parametros': \"{'model__n_estimators': 50}\",\n",
       "  'Version_data': 'all_log'},\n",
       " 'NY': {'Modelo': 'GradientBoosting',\n",
       "  'parametros': \"{'model__n_estimators': 150}\",\n",
       "  'Version_data': 'new_values'},\n",
       " 'SC': {'Modelo': 'Lasso',\n",
       "  'parametros': \"{'model__alpha': 1.0}\",\n",
       "  'Version_data': 'new_values'},\n",
       " 'VA': {'Modelo': 'LinearRegression',\n",
       "  'parametros': '{}',\n",
       "  'Version_data': 'new_values'}}"
      ]
     },
     "execution_count": 4,
     "metadata": {},
     "output_type": "execute_result"
    }
   ],
   "source": [
    "mejores_modelos = bests_models[['State','Modelo','parametros','Version_data']].to_dict(orient='records')\n",
    "\n",
    "modelos_dict = {}\n",
    "for diccionario in mejores_modelos:\n",
    "    modelos_dict[diccionario.get('State')] = {'Modelo': diccionario.get('Modelo'), 'parametros': diccionario.get('parametros'),\n",
    "    'Version_data': diccionario.get('Version_data')}\n",
    "modelos_dict"
   ]
  },
  {
   "cell_type": "markdown",
   "metadata": {},
   "source": [
    "# Aumented data Smote"
   ]
  },
  {
   "cell_type": "code",
   "execution_count": 9,
   "metadata": {},
   "outputs": [
    {
     "ename": "ValueError",
     "evalue": "Expected n_neighbors <= n_samples,  but n_samples = 1, n_neighbors = 6",
     "output_type": "error",
     "traceback": [
      "\u001b[0;31m---------------------------------------------------------------------------\u001b[0m",
      "\u001b[0;31mValueError\u001b[0m                                Traceback (most recent call last)",
      "\u001b[1;32m/Users/sgallego/Library/CloudStorage/OneDrive-UniversidadEAFIT/5.Trabajo de Grado/2. Trabajo de Grado/Develop/modeling/6.Modeling_iteracion3.ipynb Celda 7\u001b[0m in \u001b[0;36m<cell line: 12>\u001b[0;34m()\u001b[0m\n\u001b[1;32m     <a href='vscode-notebook-cell:/Users/sgallego/Library/CloudStorage/OneDrive-UniversidadEAFIT/5.Trabajo%20de%20Grado/2.%20Trabajo%20de%20Grado/Develop/modeling/6.Modeling_iteracion3.ipynb#X50sZmlsZQ%3D%3D?line=24'>25</a>\u001b[0m X_train, X_test, y_train, y_test \u001b[39m=\u001b[39m train_test_split(X, y, test_size\u001b[39m=\u001b[39m\u001b[39m0.2\u001b[39m, random_state\u001b[39m=\u001b[39m\u001b[39m42\u001b[39m)\n\u001b[1;32m     <a href='vscode-notebook-cell:/Users/sgallego/Library/CloudStorage/OneDrive-UniversidadEAFIT/5.Trabajo%20de%20Grado/2.%20Trabajo%20de%20Grado/Develop/modeling/6.Modeling_iteracion3.ipynb#X50sZmlsZQ%3D%3D?line=27'>28</a>\u001b[0m smote \u001b[39m=\u001b[39m SMOTE()\n\u001b[0;32m---> <a href='vscode-notebook-cell:/Users/sgallego/Library/CloudStorage/OneDrive-UniversidadEAFIT/5.Trabajo%20de%20Grado/2.%20Trabajo%20de%20Grado/Develop/modeling/6.Modeling_iteracion3.ipynb#X50sZmlsZQ%3D%3D?line=28'>29</a>\u001b[0m X_train_smote, y_train_smote \u001b[39m=\u001b[39m smote\u001b[39m.\u001b[39;49mfit_resample(X_train, y_train)\n\u001b[1;32m     <a href='vscode-notebook-cell:/Users/sgallego/Library/CloudStorage/OneDrive-UniversidadEAFIT/5.Trabajo%20de%20Grado/2.%20Trabajo%20de%20Grado/Develop/modeling/6.Modeling_iteracion3.ipynb#X50sZmlsZQ%3D%3D?line=30'>31</a>\u001b[0m model_name \u001b[39m=\u001b[39m modelos_dict[state]\u001b[39m.\u001b[39mget(\u001b[39m'\u001b[39m\u001b[39mModelo\u001b[39m\u001b[39m'\u001b[39m)\n\u001b[1;32m     <a href='vscode-notebook-cell:/Users/sgallego/Library/CloudStorage/OneDrive-UniversidadEAFIT/5.Trabajo%20de%20Grado/2.%20Trabajo%20de%20Grado/Develop/modeling/6.Modeling_iteracion3.ipynb#X50sZmlsZQ%3D%3D?line=31'>32</a>\u001b[0m model \u001b[39m=\u001b[39m models\u001b[39m.\u001b[39mget(model_name)\n",
      "File \u001b[0;32m/usr/local/lib/python3.9/site-packages/imblearn/base.py:208\u001b[0m, in \u001b[0;36mBaseSampler.fit_resample\u001b[0;34m(self, X, y)\u001b[0m\n\u001b[1;32m    187\u001b[0m \u001b[39m\"\"\"Resample the dataset.\u001b[39;00m\n\u001b[1;32m    188\u001b[0m \n\u001b[1;32m    189\u001b[0m \u001b[39mParameters\u001b[39;00m\n\u001b[0;32m   (...)\u001b[0m\n\u001b[1;32m    205\u001b[0m \u001b[39m    The corresponding label of `X_resampled`.\u001b[39;00m\n\u001b[1;32m    206\u001b[0m \u001b[39m\"\"\"\u001b[39;00m\n\u001b[1;32m    207\u001b[0m \u001b[39mself\u001b[39m\u001b[39m.\u001b[39m_validate_params()\n\u001b[0;32m--> 208\u001b[0m \u001b[39mreturn\u001b[39;00m \u001b[39msuper\u001b[39;49m()\u001b[39m.\u001b[39;49mfit_resample(X, y)\n",
      "File \u001b[0;32m/usr/local/lib/python3.9/site-packages/imblearn/base.py:112\u001b[0m, in \u001b[0;36mSamplerMixin.fit_resample\u001b[0;34m(self, X, y)\u001b[0m\n\u001b[1;32m    106\u001b[0m X, y, binarize_y \u001b[39m=\u001b[39m \u001b[39mself\u001b[39m\u001b[39m.\u001b[39m_check_X_y(X, y)\n\u001b[1;32m    108\u001b[0m \u001b[39mself\u001b[39m\u001b[39m.\u001b[39msampling_strategy_ \u001b[39m=\u001b[39m check_sampling_strategy(\n\u001b[1;32m    109\u001b[0m     \u001b[39mself\u001b[39m\u001b[39m.\u001b[39msampling_strategy, y, \u001b[39mself\u001b[39m\u001b[39m.\u001b[39m_sampling_type\n\u001b[1;32m    110\u001b[0m )\n\u001b[0;32m--> 112\u001b[0m output \u001b[39m=\u001b[39m \u001b[39mself\u001b[39;49m\u001b[39m.\u001b[39;49m_fit_resample(X, y)\n\u001b[1;32m    114\u001b[0m y_ \u001b[39m=\u001b[39m (\n\u001b[1;32m    115\u001b[0m     label_binarize(output[\u001b[39m1\u001b[39m], classes\u001b[39m=\u001b[39mnp\u001b[39m.\u001b[39munique(y)) \u001b[39mif\u001b[39;00m binarize_y \u001b[39melse\u001b[39;00m output[\u001b[39m1\u001b[39m]\n\u001b[1;32m    116\u001b[0m )\n\u001b[1;32m    118\u001b[0m X_, y_ \u001b[39m=\u001b[39m arrays_transformer\u001b[39m.\u001b[39mtransform(output[\u001b[39m0\u001b[39m], y_)\n",
      "File \u001b[0;32m/usr/local/lib/python3.9/site-packages/imblearn/over_sampling/_smote/base.py:382\u001b[0m, in \u001b[0;36mSMOTE._fit_resample\u001b[0;34m(self, X, y)\u001b[0m\n\u001b[1;32m    379\u001b[0m X_class \u001b[39m=\u001b[39m _safe_indexing(X, target_class_indices)\n\u001b[1;32m    381\u001b[0m \u001b[39mself\u001b[39m\u001b[39m.\u001b[39mnn_k_\u001b[39m.\u001b[39mfit(X_class)\n\u001b[0;32m--> 382\u001b[0m nns \u001b[39m=\u001b[39m \u001b[39mself\u001b[39;49m\u001b[39m.\u001b[39;49mnn_k_\u001b[39m.\u001b[39;49mkneighbors(X_class, return_distance\u001b[39m=\u001b[39;49m\u001b[39mFalse\u001b[39;49;00m)[:, \u001b[39m1\u001b[39m:]\n\u001b[1;32m    383\u001b[0m X_new, y_new \u001b[39m=\u001b[39m \u001b[39mself\u001b[39m\u001b[39m.\u001b[39m_make_samples(\n\u001b[1;32m    384\u001b[0m     X_class, y\u001b[39m.\u001b[39mdtype, class_sample, X_class, nns, n_samples, \u001b[39m1.0\u001b[39m\n\u001b[1;32m    385\u001b[0m )\n\u001b[1;32m    386\u001b[0m X_resampled\u001b[39m.\u001b[39mappend(X_new)\n",
      "File \u001b[0;32m/usr/local/lib/python3.9/site-packages/sklearn/neighbors/_base.py:749\u001b[0m, in \u001b[0;36mKNeighborsMixin.kneighbors\u001b[0;34m(self, X, n_neighbors, return_distance)\u001b[0m\n\u001b[1;32m    747\u001b[0m n_samples_fit \u001b[39m=\u001b[39m \u001b[39mself\u001b[39m\u001b[39m.\u001b[39mn_samples_fit_\n\u001b[1;32m    748\u001b[0m \u001b[39mif\u001b[39;00m n_neighbors \u001b[39m>\u001b[39m n_samples_fit:\n\u001b[0;32m--> 749\u001b[0m     \u001b[39mraise\u001b[39;00m \u001b[39mValueError\u001b[39;00m(\n\u001b[1;32m    750\u001b[0m         \u001b[39m\"\u001b[39m\u001b[39mExpected n_neighbors <= n_samples, \u001b[39m\u001b[39m\"\u001b[39m\n\u001b[1;32m    751\u001b[0m         \u001b[39m\"\u001b[39m\u001b[39m but n_samples = \u001b[39m\u001b[39m%d\u001b[39;00m\u001b[39m, n_neighbors = \u001b[39m\u001b[39m%d\u001b[39;00m\u001b[39m\"\u001b[39m \u001b[39m%\u001b[39m (n_samples_fit, n_neighbors)\n\u001b[1;32m    752\u001b[0m     )\n\u001b[1;32m    754\u001b[0m n_jobs \u001b[39m=\u001b[39m effective_n_jobs(\u001b[39mself\u001b[39m\u001b[39m.\u001b[39mn_jobs)\n\u001b[1;32m    755\u001b[0m chunked_results \u001b[39m=\u001b[39m \u001b[39mNone\u001b[39;00m\n",
      "\u001b[0;31mValueError\u001b[0m: Expected n_neighbors <= n_samples,  but n_samples = 1, n_neighbors = 6"
     ]
    }
   ],
   "source": [
    "results_dict = {\n",
    "    'Version_data': [],\n",
    "    'Version_iteracion': 'iter3-smote',\n",
    "    'State': [],\n",
    "    'Modelo': [],\n",
    "    'parametros': [],\n",
    "    'r2': []\n",
    "}\n",
    "States = bests_models.State.unique()\n",
    "directory = '../data/final_data/'\n",
    "\n",
    "for state in States:\n",
    "    results_dict['Version_data'].append(modelos_dict[state].get('Version_data'))\n",
    "    results_dict['Modelo'].append(modelos_dict[state].get('Modelo'))\n",
    "    results_dict['parametros'].append(modelos_dict[state].get('parametros'))\n",
    "\n",
    "    filename = f\"data_{state}.csv\"\n",
    "    filepath = os.path.join(directory, filename)\n",
    "    if os.path.exists(filepath):\n",
    "        data = pd.read_csv(filepath)\n",
    "        X = data.drop(['MedianPrice', 'State'], axis=1)\n",
    "        y = data['MedianPrice'] \n",
    "\n",
    "        \n",
    "        X_train, X_test, y_train, y_test = train_test_split(X, y, test_size=0.2, random_state=42)\n",
    "\n",
    "        \n",
    "        smote = SMOTE()\n",
    "        X_train_smote, y_train_smote = smote.fit_resample(X_train, y_train)\n",
    "\n",
    "        model_name = modelos_dict[state].get('Modelo')\n",
    "        model = models.get(model_name)\n",
    "\n",
    "        if model is not None:\n",
    "            parametros = modelos_dict[state].get('parametros')\n",
    "\n",
    "            if isinstance(model, type):\n",
    "                model.set_params(**parametros)\n",
    "\n",
    "            if len(X_train_smote) < 2:  # Si el conjunto de datos de entrenamiento es muy pequeño\n",
    "                r2 = 0  # Establece R2 en 0\n",
    "            else:\n",
    "                # Entrenar el modelo y hacer predicciones\n",
    "                model.fit(X_train_smote, y_train_smote)\n",
    "                y_pred = model.predict(X_test)\n",
    "\n",
    "                # Calcular R2\n",
    "                r2 = r2_score(y_test, y_pred)\n",
    "\n",
    "            results_dict['r2'].append(r2)"
   ]
  },
  {
   "cell_type": "code",
   "execution_count": 10,
   "metadata": {},
   "outputs": [
    {
     "data": {
      "text/plain": [
       "125"
      ]
     },
     "execution_count": 10,
     "metadata": {},
     "output_type": "execute_result"
    }
   ],
   "source": [
    "len(X_train)"
   ]
  },
  {
   "cell_type": "code",
   "execution_count": 12,
   "metadata": {},
   "outputs": [
    {
     "data": {
      "text/plain": [
       "{'Version_data': ['new_values_log', 'new_values'],\n",
       " 'Version_iteracion': 'iter3-smote',\n",
       " 'State': [],\n",
       " 'Modelo': ['RandomForest', 'Lasso'],\n",
       " 'parametros': [\"{'model__n_estimators': 50}\", \"{'model__alpha': 1.0}\"],\n",
       " 'r2': [0.8644978822092702]}"
      ]
     },
     "execution_count": 12,
     "metadata": {},
     "output_type": "execute_result"
    }
   ],
   "source": [
    "results_dict"
   ]
  },
  {
   "cell_type": "code",
   "execution_count": null,
   "metadata": {},
   "outputs": [],
   "source": []
  }
 ],
 "metadata": {
  "kernelspec": {
   "display_name": "Python 3.9.17 64-bit",
   "language": "python",
   "name": "python3"
  },
  "language_info": {
   "codemirror_mode": {
    "name": "ipython",
    "version": 3
   },
   "file_extension": ".py",
   "mimetype": "text/x-python",
   "name": "python",
   "nbconvert_exporter": "python",
   "pygments_lexer": "ipython3",
   "version": "3.9.17"
  },
  "orig_nbformat": 4,
  "vscode": {
   "interpreter": {
    "hash": "397704579725e15f5c7cb49fe5f0341eb7531c82d19f2c29d197e8b64ab5776b"
   }
  }
 },
 "nbformat": 4,
 "nbformat_minor": 2
}
